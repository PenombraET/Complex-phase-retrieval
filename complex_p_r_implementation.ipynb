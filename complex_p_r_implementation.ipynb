{
 "cells": [
  {
   "cell_type": "code",
   "execution_count": 1,
   "metadata": {},
   "outputs": [],
   "source": [
    "import numpy as np\n",
    "import matplotlib.pyplot as plt\n",
    "from tqdm import tqdm\n",
    "#import random\n"
   ]
  },
  {
   "cell_type": "markdown",
   "metadata": {},
   "source": [
    "def random_complex_vector(n=1, max_norm=1, fixed_norm=True):\n",
    "    \"\"\"\n",
    "    Returns a complex vector of dimension n x 1 (defaults to 1 x 1).\n",
    "    Complex elements have norm ]0,max_norm] uniformly randomly, or norm max_norm if fixed_norm == True\n",
    "    \"\"\"\n",
    "    ret = np.empty(n,dtype=np.complex_)\n",
    "    for i in range(n):\n",
    "        if fixed_norm:\n",
    "            norm = max_norm*(1-random.random()) #to have ]0,max_norm]\n",
    "        else:\n",
    "            norm = max_norm\n",
    "        ang = 2*np.pi*random.random()\n",
    "        ret[i] = max_norm*np.exp((0+1j)*ang)\n",
    "    return ret"
   ]
  },
  {
   "cell_type": "markdown",
   "metadata": {},
   "source": [
    "def random_complex_vector(n=1, distribution='gaussian', param=1/np.sqrt(2)):\n",
    "    assert distribution in ['gaussian','uniform','fixed_norm'], \\\n",
    "        f\"Parameter distribution can not be {distribution}\"\n",
    "    if distribution=='gaussian':\n",
    "        return np.random.normal(loc=0,scale=param,size=n) + \\\n",
    "            (0+1j)*np.random.normal(loc=0,scale=param,size=n)\n",
    "    else:\n",
    "        ret = np.empty(n,dtype=np.complex_)\n",
    "        for i in range(n):\n",
    "            if distribution=='fixed_norm':\n",
    "                norm = param*(1-random.random()) #to have ]0,param]\n",
    "            elif distribution=='uniform':\n",
    "                norm = param\n",
    "            ang = 2*np.pi*random.random()\n",
    "            ret[i] = norm*np.exp((0+1j)*ang)\n",
    "    return ret"
   ]
  },
  {
   "cell_type": "code",
   "execution_count": 2,
   "metadata": {},
   "outputs": [],
   "source": [
    "def random_complex_vector(length=1, distribution='gaussian', param=1/np.sqrt(2)):\n",
    "    \"\"\"\n",
    "    Returns a complex vector of dimension length x 1\n",
    "    If distribution=='gaussian', complex elements are as x+iy, with x,y ~N(0,param^2), param is std\n",
    "    If distribution=='uniform', complex elements have norm ]0,param] uniformly randomly, phase ]0,2pi] uniformly randomly\n",
    "    If distribution=='fixed_norm', complex elements have norm param, phase ]0,2pi] uniformly randomly\n",
    "    If distribution=='real_gaussian', x ~N(0,param^2), param is std, y=0\n",
    "    If distribution=='real_uniform', x has norm ]0,param] uniformly randomly, y=0\n",
    "\n",
    "    Complex standard normal (gaussian) distribution has variance 1/2 over the real and over the imaginary part (total variance 1)\n",
    "    The real one has 1\n",
    "    \"\"\"\n",
    "    assert distribution in ['gaussian','uniform','fixed_norm','real_gaussian','real_uniform'], \\\n",
    "        f\"Parameter distribution can not be {distribution}\"\n",
    "\n",
    "    if distribution=='gaussian':\n",
    "        return np.random.normal(loc=0,scale=param,size=length) + \\\n",
    "            (0+1j)*np.random.normal(loc=0,scale=param,size=length)\n",
    "    elif distribution=='fixed_norm':\n",
    "        return param*np.exp(2*np.pi*(0+1j)*np.random.random(length))\n",
    "    elif distribution=='uniform':\n",
    "        return param*(1 - np.random.random(length))*np.exp(2*np.pi*(0+1j)*np.random.random(length)) #to have norm in ]0,param]\n",
    "    elif distribution=='real_gaussian':\n",
    "        return param*np.random.normal(loc=0,scale=param,size=length)\n",
    "    elif distribution=='real_uniform':\n",
    "        return param*(1 - np.random.random(length))*np.random.choice([-1,1],1)"
   ]
  },
  {
   "cell_type": "markdown",
   "metadata": {},
   "source": [
    "vec = random_complex_vector(100000,'gaussian',1/np.sqrt(2))\n",
    "plt.hist2d(np.real(vec),np.imag(vec), [200,200])\n",
    "plt.show"
   ]
  },
  {
   "cell_type": "markdown",
   "metadata": {},
   "source": [
    "np.var(random_complex_vector(10000))"
   ]
  },
  {
   "cell_type": "code",
   "execution_count": 3,
   "metadata": {},
   "outputs": [],
   "source": [
    "def define_w_hat(dim,complex=True):\n",
    "    \"\"\"\n",
    "    Returns a complex vector of dimension d x 1, the \"teacher\" vector to be found.\n",
    "    Its components are randomly initialized: its norm is in [0,1[, its phase in [0,2pi[.\n",
    "    Its complex norm squared is d (which means its numpy.linalg.norm is the root of d)\n",
    "\n",
    "    If complex=False, returns a real vector of squared norm d\n",
    "    \"\"\"\n",
    "    #assert isinstance(dim,int) and dim > 0, f\"Given variable dim should not be {dim}\"\n",
    "    if complex:\n",
    "        ret = random_complex_vector(dim,'uniform',1)\n",
    "    else:\n",
    "        ret = random_complex_vector(dim,'real_uniform',1)\n",
    "    return np.sqrt(dim)*ret/np.linalg.norm(ret)"
   ]
  },
  {
   "cell_type": "markdown",
   "metadata": {},
   "source": [
    "d = 102\n",
    "np.linalg.norm(define_w_hat(d))"
   ]
  },
  {
   "cell_type": "code",
   "execution_count": 4,
   "metadata": {},
   "outputs": [],
   "source": [
    "def define_X(n,d,law='gaussian',param=1/np.sqrt(2)):\n",
    "    \"\"\"\n",
    "    Returns a matrix of dimension n x d, that is the data.\n",
    "    If law=='gaussian', its rows are complex standard normally distributed, meaning x+iy with x,y~N(0,1/2)\n",
    "    If law=='real_gaussian', its rows are standard normally distributed, meaning x+iy with x~N(0,1), y=0\n",
    "    \"\"\"\n",
    "    mat = np.empty((n,d),dtype=np.complex_)\n",
    "    for i in range(n):\n",
    "        mat[i] = random_complex_vector(d,law,param)\n",
    "    return mat"
   ]
  },
  {
   "cell_type": "code",
   "execution_count": 5,
   "metadata": {},
   "outputs": [],
   "source": [
    "def define_y(X,w_hat):\n",
    "    \"\"\"\n",
    "    Returns an array of dimension n x 1, built from the data X and the teacher vector w_hat\n",
    "    It keeps only the modulus of every element, that should be in principle in [0,1]\n",
    "    (but can be bigger if the dimension of w_hat is finite)\n",
    "    \"\"\"\n",
    "    return np.abs(X@w_hat)/np.sqrt(len(w_hat))"
   ]
  },
  {
   "cell_type": "markdown",
   "metadata": {},
   "source": [
    "$\\nu(h,h_0) = \\frac{1}{2}(|h|^2-|h_0|^2)^2$\n",
    "Could very simply be optimized in the code by not taking the norm of $h_0$ which will be a positive real number, $y^i$, anyways. Could also be optimized (like its derivative) with $h\\cdot h^*$ rather than np.abs(h)**2"
   ]
  },
  {
   "cell_type": "code",
   "execution_count": 6,
   "metadata": {},
   "outputs": [],
   "source": [
    "def cost(h,h_0):\n",
    "    \"\"\"\n",
    "    The cost function \"mu\", comparing |X^i@w| to the value y^i=|X^i@w_hat| it corresponds to, minimized in that value\n",
    "    USELESS wait this function is useless\n",
    "    \"\"\"\n",
    "    return (np.abs(h)**2-np.abs(h_0)**2)**2/2"
   ]
  },
  {
   "cell_type": "markdown",
   "metadata": {},
   "source": [
    "We will first implement $\\partial_1\\nu(h,h_0) = 2(|h|^2-|h_0|^2)\\cdot h$ (assumes $\\frac{d}{dz} |z|^2 = 2z$)\n",
    "\n",
    "$\\partial_1\\nu(h,h_0) = (|h|^2-|h_0|^2)\\cdot h^*$ would be the Wirtinger derivative (assumes $\\frac{d}{dz} |z|^2 = z^*$) IS THE ONE USED"
   ]
  },
  {
   "cell_type": "code",
   "execution_count": 7,
   "metadata": {},
   "outputs": [],
   "source": [
    "def cost_der_1(h,h_0):\n",
    "    \"\"\"\n",
    "    The derivative of the cost function \"mu\" in its first argument, h\n",
    "    \"\"\"\n",
    "    return (np.abs(h)**2-np.abs(h_0)**2)*h.conj()"
   ]
  },
  {
   "cell_type": "markdown",
   "metadata": {},
   "source": [
    "$s^i(t) = \\left\\{ \\begin{array}{ll} 1 \\text{ with probability b} \\\\\n",
    "0 \\text{ with probability 1-b} \\end{array} \\right.$\n",
    "$b \\in ]0,1]$"
   ]
  },
  {
   "cell_type": "code",
   "execution_count": 8,
   "metadata": {},
   "outputs": [],
   "source": [
    "def isinbatch(b,n):\n",
    "    \"\"\"\n",
    "    Gives a vector s_new with each element 1 with a probability b, or 0 otherwise.\n",
    "    Vector of functions s^i(t)\n",
    "    \"\"\"\n",
    "    s_new = np.empty(n)\n",
    "    for i in range(n):\n",
    "        s_new[i] = np.random.choice([1,0],p=[b,1-b])\n",
    "    return s_new"
   ]
  },
  {
   "cell_type": "markdown",
   "metadata": {},
   "source": [
    "\\begin{split}\n",
    "        & s^i(t=0) = \\left\\{\n",
    "        \\begin{array}{ll}\n",
    "            1 \\text{ with probability } b \\\\\n",
    "            0 \\text{ with probability } 1-b\n",
    "        \\end{array}\n",
    "        \\right.\n",
    "        \\\\\n",
    "        & \\mathbb{P}\\left(s^i(t+\\eta) = 1 | s^i(t) = 0\\right) = \\frac{\\eta}{\\tau} \\\\\n",
    "        & \\mathbb{P}\\left(s^i(t+\\eta) = 0 | s^i(t) = 1\\right) = \\frac{1 - b}{b \\tau}\\eta.\n",
    "    \\end{split}"
   ]
  },
  {
   "cell_type": "markdown",
   "metadata": {},
   "source": [
    "def iterative_isinbatch(b,eta,tau,s_last):\n",
    "    \"\"\"\n",
    "    The function s^i when defined iteratively, takes its precedent state into account.\n",
    "    Should NOT be called for t=0, this value should be obtained via isinbatch().\n",
    "    Allows to remove a test for every iteration of this function\n",
    "    \"\"\"\n",
    "    prob_1 = eta/tau*(1-s_last) + (1-(1/b-1)*tau/eta)*s_last\n",
    "    prob_0 = 1-prob_1\n",
    "    return np.random.choice([1,0],p=[prob_1,prob_0])\n"
   ]
  },
  {
   "cell_type": "code",
   "execution_count": 9,
   "metadata": {},
   "outputs": [],
   "source": [
    "def iterative_isinbatch(b,eta,tau,s_last):\n",
    "    \"\"\"\n",
    "    The vector of functions s^i(t) when defined iteratively, takes its precedent state into account\n",
    "    \"\"\"\n",
    "    s_new = np.empty(len(s_last))\n",
    "    for i in range(len(s_last)):\n",
    "        prob_1 = eta/tau*(1-s_last[i]) + (1-(1/b-1)*eta/tau)*s_last[i]\n",
    "        prob_0 = 1-prob_1\n",
    "        #print(f'run {i} and s_last {s_last[i]}: Probabilities are {prob_1} for 1 and {prob_0} for 0')\n",
    "        s_new[i] = np.random.choice([1,0],p=[prob_1,prob_0])\n",
    "    return s_new\n"
   ]
  },
  {
   "cell_type": "markdown",
   "metadata": {},
   "source": [
    "$\\mathcal{L}(\\underline{w},t) = \\sum_{i=1}^{N}s^i(t) \\nu(h^i,\\hat{h}^i), \\hspace{1cm} h^i = \\frac{1}{\\sqrt{d}}\\underline{X}^i\\cdot\\underline{w}, \\hspace{5mm} \\hat{h}^i=\\frac{1}{\\sqrt{d}}\\underline{X}^i\\cdot\\underline{\\hat{w}}$ L will be normalized in N and b"
   ]
  },
  {
   "cell_type": "code",
   "execution_count": 10,
   "metadata": {},
   "outputs": [],
   "source": [
    "def loss(w,X,y,s_last,b):\n",
    "    \"\"\"\n",
    "    The loss function to be minimized, y^i can be taken in place of \\hat{h}^.\n",
    "    \n",
    "    \"\"\"\n",
    "    return np.sum(s_last/len(y)/b*cost(X@w/np.sqrt(len(w)),y))/len(y)/b"
   ]
  },
  {
   "cell_type": "markdown",
   "metadata": {},
   "source": [
    "$\\partial_{w^k}\\mathcal{L}(\\underline{w}) = \\partial_{w^k}\\sum_{i=1}^N s^i(t) \\nu(h^i,\\hat{h}^i) = \\sum_{i=1}^N s^i(t) \\partial_1\\nu(h^i,\\hat{h}^i)\\partial_{w^k}h^i = \\sum_{i=1}^N s^i(t) \\partial_1\\nu(h^i,\\hat{h}^i)\\frac{1}{\\sqrt{d}}\\cdot X^i_k$"
   ]
  },
  {
   "cell_type": "markdown",
   "metadata": {},
   "source": [
    "def loss_der_wk(w,X,y,k):\n",
    "    \"\"\"\n",
    "    The derivative in w_k of the loss function (k ranging from 0 to d-1)\n",
    "    \"\"\"\n",
    "    return np.sum(cost_der_1(X@w/np.sqrt(len(w)),y))*X[:,k]/np.sqrt(len(w))"
   ]
  },
  {
   "cell_type": "code",
   "execution_count": 11,
   "metadata": {},
   "outputs": [],
   "source": [
    "def loss_grad(w,X,y,s_last,b):\n",
    "    \"\"\"\n",
    "    The gradient in w of the loss function\n",
    "    \"\"\"\n",
    "    ret = np.empty(len(w),dtype=np.complex_)\n",
    "    for k in range(len(w)):\n",
    "        ret[k] = s_last.T@(cost_der_1(X@w/np.sqrt(len(w)),y)*X[:,k])/np.sqrt(len(w))/len(y)/b\n",
    "    return ret.conj()"
   ]
  },
  {
   "cell_type": "markdown",
   "metadata": {},
   "source": [
    "def loss_grad(w,X,y,s_last,b):\n",
    "    \"\"\"\n",
    "    The gradient in w of the loss function\n",
    "    \"\"\"\n",
    "    ret = np.empty(len(w),dtype=np.complex_)\n",
    "    for k in range(len(w)):\n",
    "        ret[k] = s_last.T@(((np.abs(X@w))**2-(np.abs(y))**2)*np.abs(X[:,k])**2*w[k].conj())/len(y)**2\n",
    "    return ret"
   ]
  },
  {
   "cell_type": "markdown",
   "metadata": {},
   "source": [
    "$m(t) = \\frac{1}{d}\\left<\\underline{w}(t),\\underline{\\hat{w}}\\right>_{\\mathbb{C}^n} \\equiv \\frac{1}{d}\\sum_{k=1}^d w^{k}(t)^*\\hat{w}^k$"
   ]
  },
  {
   "cell_type": "markdown",
   "metadata": {},
   "source": [
    "def magnetization_norm(w,w_hat):\n",
    "    return np.linalg.norm(w.conj().T@w_hat/len(w_hat))"
   ]
  },
  {
   "cell_type": "code",
   "execution_count": 12,
   "metadata": {},
   "outputs": [],
   "source": [
    "def magnetization_norm(w,w_hat):\n",
    "    return np.abs(w.conj().T@w_hat/len(w_hat))"
   ]
  },
  {
   "cell_type": "markdown",
   "metadata": {},
   "source": [
    "$\\underline{w}(t=0) = \\frac{m_0 \\underline{\\hat{w}} + \\underline{z}}{\\left|m_0 \\underline{\\hat{w}} + \\underline{z}\\right|}\\sqrt{d}, \\qquad m_0 \\in ]0,1], \\quad \\underline{z}\\in\\mathbb{R}^d$, z components are i.i.d complex normal gaussian"
   ]
  },
  {
   "cell_type": "markdown",
   "metadata": {},
   "source": [
    "def define_w_0(m_0, w_hat, complex=True):\n",
    "    \"\"\"\n",
    "    The initialization of vector w, \"warm initialization\" to avoid getting stuck in a perpendicular\n",
    "    state to w_hat\n",
    "    \"\"\"\n",
    "    if complex:\n",
    "        z = random_complex_vector(len(w_hat))\n",
    "    else:\n",
    "        z = random_complex_vector(len(w_hat),'real_gaussian',1)\n",
    "    coeff = np.sqrt(len(w_hat)*(1-m_0**2))/np.linalg.norm(z)\n",
    "    vec = m_0*w_hat+coeff*z\n",
    "    return vec/np.linalg.norm(vec)*np.sqrt(len(w_hat))"
   ]
  },
  {
   "cell_type": "markdown",
   "metadata": {},
   "source": [
    "$c = \\frac{-2m_0\\mathfrak{Re}(\\underline{\\hat{w}}\\underline{z}^*) + \\sqrt{(2m_0\\mathfrak{Re}(\\underline{\\hat{w}}\\underline{z}^*))^2-\\underline{z}\\underline{z}^*d(m_0^2-1)}}{\\underline{z}\\underline{z}^*}$"
   ]
  },
  {
   "cell_type": "code",
   "execution_count": 13,
   "metadata": {},
   "outputs": [],
   "source": [
    "def define_w_0(m_0, w_hat, complex=True):\n",
    "    \"\"\"\n",
    "    The initialization of vector w, \"warm initialization\" to avoid getting stuck in a perpendicular\n",
    "    state to w_hat\n",
    "    \"\"\"\n",
    "    if complex:\n",
    "        z = random_complex_vector(len(w_hat))\n",
    "    else:\n",
    "        z = random_complex_vector(len(w_hat),'real_gaussian',1)\n",
    "    coeff = (-2*m_0*np.real(w_hat.T@np.conj(z)) + np.sqrt((2*m_0*np.real(w_hat.T@np.conj(z)))**2-z.T@np.conj(z)*len(w_hat)*(m_0**2-1)))/np.linalg.norm(z)**2\n",
    "    vec = m_0*w_hat+coeff*z\n",
    "    return vec/np.linalg.norm(vec)*np.sqrt(len(w_hat))"
   ]
  },
  {
   "cell_type": "markdown",
   "metadata": {},
   "source": [
    "test_d = 10000\n",
    "test_w_h = w_hat = define_w_hat(test_d,complex=False)\n",
    "test_m0 = 0.3\n",
    "test_w0 = define_w_0(test_m0,test_w_h,False)\n",
    "magnetization_norm(test_w_h,test_w0)"
   ]
  },
  {
   "cell_type": "markdown",
   "metadata": {},
   "source": [
    "N = 100000\n",
    "w = random_complex_vector(N)\n",
    "z = random_complex_vector(N)\n",
    "w.conj().T@z/(z.conj().T@z)"
   ]
  },
  {
   "cell_type": "markdown",
   "metadata": {},
   "source": [
    "def define_w_0(m_0, w_hat):\n",
    "    \"\"\"\n",
    "    The initialization of vector w, \"warm initialization\" to avoid getting stuck in a perpendicular\n",
    "    state to w_hat\n",
    "    \"\"\"\n",
    "    z = random_complex_vector(len(w_hat))\n",
    "    vec = m_0*w_hat+np.sqrt(len(w_hat))*z\n",
    "    for k in vec:\n",
    "        k = k/np.abs(k)*np.sqrt(len(w_hat))\n",
    "    return vec"
   ]
  },
  {
   "cell_type": "markdown",
   "metadata": {},
   "source": [
    "$w^k(t+\\eta) = \\frac{w^k(t) - \\eta  \\partial_{w^k}\\mathcal{L}(\\underline{w},t)}{|w^k(t) - \\eta  \\partial_{w^k}\\mathcal{L}(\\underline{w},t)|}\\sqrt{d}$ False, should not be componentwise, but for the whole vector $\\underline{w}$"
   ]
  },
  {
   "cell_type": "markdown",
   "metadata": {},
   "source": [
    "We could try other regularizations, like Ridge"
   ]
  },
  {
   "cell_type": "code",
   "execution_count": 14,
   "metadata": {},
   "outputs": [],
   "source": [
    "def w_next(w,X,y,b,eta,tau,s_last):\n",
    "    \"\"\"\n",
    "    The recursive algorithm that links all together\n",
    "    \"\"\"\n",
    "    cal = w - eta*loss_grad(w,X,y,s_last,b)\n",
    "    \n",
    "    return cal/np.linalg.norm(cal)*np.sqrt(len(w))"
   ]
  },
  {
   "cell_type": "markdown",
   "metadata": {},
   "source": [
    "vec = np.array([[1+2j],[2-1j],[1+0j]])\n",
    "np.abs(vec) - np.sqrt(vec.conj()*vec)\n",
    "vec.conj().T@vec"
   ]
  },
  {
   "cell_type": "markdown",
   "metadata": {},
   "source": [
    "def w_next(w,X,y,b,eta,tau,s_last):\n",
    "    \"\"\"\n",
    "    The recursive algorithm that links all together\n",
    "    \"\"\"\n",
    "    cal = w - eta*loss_grad(w,X,y,s_last)\n",
    "    for k in cal:\n",
    "        k = k/np.abs(k)*np.sqrt(len(w))\n",
    "    return cal"
   ]
  },
  {
   "cell_type": "markdown",
   "metadata": {},
   "source": [
    "Let's start with the actual loop, setting at first the hyperparameters"
   ]
  },
  {
   "cell_type": "code",
   "execution_count": 50,
   "metadata": {},
   "outputs": [],
   "source": [
    "def initialize(N, d, eta, tau, b, m_0, iter_max, isComplex):\n",
    "\n",
    "    iter_max = int(iter_max)\n",
    "\n",
    "    #eta must be smaller than tau\n",
    "    #b must be bigger than eta/(tau+eta)\n",
    "\n",
    "    assert eta <= tau, \"eta must be smaller than tau\"\n",
    "    assert (b >= eta/(tau+eta)), \"b must be bigger than eta/(tau+eta)\"\n",
    "\n",
    "    if isComplex:\n",
    "        X = define_X(N,d,'gaussian')\n",
    "    else:\n",
    "        X = define_X(N,d,'real_gaussian',1)\n",
    "    \n",
    "    w_hat = define_w_hat(d,complex=isComplex)\n",
    "    y = define_y(X,w_hat)\n",
    "\n",
    "    m_norm_all = np.empty(iter_max)\n",
    "    loss_all = np.empty(iter_max)\n",
    "    s_vector = np.empty(N)\n",
    "    w = define_w_0(m_0,w_hat,complex=isComplex)\n",
    "\n",
    "    #print(magnetization_norm(w,w_hat))\n",
    "\n",
    "    return X, w_hat, y, m_norm_all, loss_all, s_vector, w"
   ]
  },
  {
   "cell_type": "markdown",
   "metadata": {},
   "source": [
    "np.std(define_X(3000,1000,'real_gaussian',1))"
   ]
  },
  {
   "cell_type": "code",
   "execution_count": 51,
   "metadata": {},
   "outputs": [],
   "source": [
    "def loop(N=100, d=30, eta=1, tau=10, b=0.1, m_0=0.2, iter_max=1e3, isComplex=True, np_rd_seed=None):\n",
    "    \n",
    "    np.random.seed(np_rd_seed)\n",
    "    #random.seed(0) if actively using random\n",
    "\n",
    "    X, w_hat, y, m_norm_all, loss_all, s_vector, w = initialize(N, d, eta, tau, b, m_0, iter_max, isComplex)\n",
    "\n",
    "    iter_max = int(iter_max)\n",
    "\n",
    "    \n",
    "    \n",
    "    \n",
    "    s_vector = isinbatch(b,N) #to \"initialize\" s, actually havine s for t=0\n",
    "    for iter in range(iter_max): #iteration is t\n",
    "\n",
    "        m_norm_all[iter] = magnetization_norm(w,w_hat)\n",
    "        loss_all[iter] = loss(w,X,y,s_vector,b)\n",
    "        w = w_next(w,X,y,b,eta,tau,s_vector) #'useless' on the last run but allows t=0 to be on graph\n",
    "        s_vector = iterative_isinbatch(b,eta,tau,s_vector) #\"useless\" on the last run but this way allows the prior isinbatch to be called for t=0\n",
    "\n",
    "    return m_norm_all, loss_all"
   ]
  },
  {
   "cell_type": "code",
   "execution_count": 58,
   "metadata": {},
   "outputs": [],
   "source": [
    "def plot_magLoss_iter(m_norm_all, loss_all, iter_max):\n",
    "\n",
    "    plt.subplot(1,2,1)\n",
    "    plt.plot(np.arange(0,iter_max,1),m_norm_all)\n",
    "    plt.xlabel('t')\n",
    "    plt.ylabel('|m|(t)')\n",
    "    plt.subplot(1,2,2)\n",
    "    plt.plot(np.arange(0,iter_max,1),loss_all)\n",
    "    plt.xlabel('t')\n",
    "    plt.ylabel('$\\mathcal{L}(t)$')\n",
    "    plt.show()"
   ]
  },
  {
   "cell_type": "code",
   "execution_count": 73,
   "metadata": {},
   "outputs": [],
   "source": [
    "def plot_mag_loss(m_norm_all, loss_all):\n",
    "    plt.scatter(m_norm_all,loss_all,c=np.arange(len(m_norm_all)),cmap='plasma')\n",
    "    plt.xlabel('|m(t)|')\n",
    "    plt.ylabel('$\\mathcal{L}$(t)')\n",
    "    plt.show()"
   ]
  },
  {
   "cell_type": "code",
   "execution_count": 74,
   "metadata": {},
   "outputs": [
    {
     "data": {
      "image/png": "[encoded data removed]",
      "text/plain": [
       "<Figure size 640x480 with 1 Axes>"
      ]
     },
     "metadata": {},
     "output_type": "display_data"
    }
   ],
   "source": [
    "#main\n",
    "\n",
    "N = 30\n",
    "d = 10\n",
    "eta = 0.5 # eta must be smaller than tau\n",
    "tau = 5 # b must be bigger than eta/(tau+eta)\n",
    "b = 0.1\n",
    "m_0 = 0.2\n",
    "iter_max = 1e3\n",
    "isComplex = True\n",
    "np_rd_seed = 0 # for the results to be reproductible\n",
    "\n",
    "\n",
    "m_norm_all, loss_all = loop(N, d, eta, tau, b, m_0, iter_max, isComplex, np_rd_seed)\n",
    "\n",
    "plot_mag_loss(m_norm_all, loss_all)"
   ]
  },
  {
   "cell_type": "markdown",
   "metadata": {},
   "source": [
    "### Code for p-SGD + SGD + GD graph\n",
    "GD has $b=1$, $\\tau$ can be anything\n",
    "\n",
    "SDG has $\\tau$ = $\\frac{\\eta}{b}$\n",
    "\n",
    "p-SGD has them vary"
   ]
  },
  {
   "cell_type": "code",
   "execution_count": 55,
   "metadata": {},
   "outputs": [],
   "source": [
    "def plot_descent_methods(m_norm, loss, labels, iter_max): #the m_norm and loss must be narrays of dim (diff_graphs, values)\n",
    "\n",
    "    plt.subplot(1,2,1)\n",
    "    plt.plot(np.arange(0,iter_max,1).T,m_norm.T,)\n",
    "    plt.xlabel('t')\n",
    "    plt.ylabel('|m|(t)')\n",
    "    plt.xscale('log')\n",
    "    plt.legend(labels)\n",
    "    plt.subplot(1,2,2)\n",
    "    plt.plot(np.arange(0,iter_max,1).T,loss.T)\n",
    "    plt.xlabel('t')\n",
    "    plt.ylabel('$\\mathcal{L}(t)$')\n",
    "    plt.xscale('log')\n",
    "    plt.yscale('log')\n",
    "    plt.legend(labels)\n",
    "    plt.show()"
   ]
  },
  {
   "cell_type": "code",
   "execution_count": 53,
   "metadata": {},
   "outputs": [
    {
     "name": "stderr",
     "output_type": "stream",
     "text": [
      "100%|██████████| 3/3 [01:58<00:00, 39.35s/it]\n",
      "100%|██████████| 3/3 [01:59<00:00, 39.97s/it]\n",
      "100%|██████████| 3/3 [02:01<00:00, 40.40s/it]\n"
     ]
    }
   ],
   "source": [
    "N = 300\n",
    "d = 100\n",
    "eta = 1 # eta must be smaller than tau\n",
    "b = np.array([1., 0.5, 0.5])\n",
    "tau = np.array([1., eta/0.5, 1.]) # b must be bigger than eta/(tau+eta)\n",
    "m_0 = 0.2\n",
    "iter_max = 1e3\n",
    "isComplex = False\n",
    "#np_rd_seed = np.arange(0,1,1) # for the results to be reproductible, the length of this object is the number of runs which get averaged\n",
    "np_rd_seed = np.random.randint(0,1000,3)\n",
    "\n",
    "graph_labels = ['GD','SGD','p-SGD']\n",
    "\n",
    "m_graph, loss_graph = np.empty((3,int(iter_max))), np.empty((3,int(iter_max)))\n",
    "\n",
    "for descent_type in range(3): # for each descent type, 500 different loops are taken over the narray np_rd_seed\n",
    "    m_to_average, loss_to_average = np.empty((len(np_rd_seed),int(iter_max))), np.empty((len(np_rd_seed),int(iter_max)))\n",
    "    for sample in tqdm(range(len(np_rd_seed))):\n",
    "        m_to_average[sample], loss_to_average[sample] = loop(N, d, eta, tau[descent_type], b[descent_type], m_0, iter_max, isComplex, np_rd_seed[sample])\n",
    "    m_graph[descent_type], loss_graph[descent_type] = np.mean(m_to_average,axis=0), np.mean(loss_to_average,axis=0)\n",
    "\n",
    "data_graph = np.concatenate((m_graph,loss_graph))\n",
    "\n",
    "np.savetxt(\"methods_comparaison.csv\", data_graph, fmt=\"%.6f\")"
   ]
  },
  {
   "cell_type": "code",
   "execution_count": 56,
   "metadata": {},
   "outputs": [
    {
     "data": {
      "image/png": "[encoded data removed]",
      "text/plain": [
       "<Figure size 640x480 with 2 Axes>"
      ]
     },
     "metadata": {},
     "output_type": "display_data"
    }
   ],
   "source": [
    "data_graph = np.genfromtxt('methods_comparaison.csv')\n",
    "m_graph = data_graph[0:3]\n",
    "loss_graph = data_graph[3:6]\n",
    "plot_descent_methods(m_graph, loss_graph, graph_labels, int(iter_max))"
   ]
  },
  {
   "cell_type": "markdown",
   "metadata": {},
   "source": [
    "### Random tests"
   ]
  },
  {
   "cell_type": "code",
   "execution_count": null,
   "metadata": {},
   "outputs": [],
   "source": [
    "m_norm_all_bis = m_norm_all\n",
    "loss_all_bis = loss_all"
   ]
  },
  {
   "cell_type": "code",
   "execution_count": null,
   "metadata": {},
   "outputs": [],
   "source": [
    "plt.subplot(1,2,1)\n",
    "plt.plot(np.arange(0,iter_max,1),m_norm_all)\n",
    "plt.plot(np.arange(0,iter_max,1),m_norm_all_bis)\n",
    "plt.xlabel('t')\n",
    "plt.ylabel('|m|(t)')\n",
    "plt.subplot(1,2,2)\n",
    "plt.plot(np.arange(0,iter_max,1),loss_all)\n",
    "plt.plot(np.arange(0,iter_max,1),loss_all_bis)\n",
    "plt.xlabel('t')\n",
    "plt.ylabel('$\\mathcal{L}(t)$')\n",
    "plt.show"
   ]
  },
  {
   "cell_type": "code",
   "execution_count": null,
   "metadata": {},
   "outputs": [],
   "source": [
    "plt.subplot(1,2,1)\n",
    "plt.plot(np.arange(0,iter_max,1),m_norm_all)\n",
    "plt.xlabel('t')\n",
    "plt.ylabel('|m|(t)')\n",
    "plt.subplot(1,2,2)\n",
    "plt.plot(np.arange(0,iter_max,1),loss_all)\n",
    "plt.xlabel('t')\n",
    "plt.ylabel('$\\mathcal{L}(t)$')\n",
    "plt.show"
   ]
  },
  {
   "cell_type": "code",
   "execution_count": null,
   "metadata": {},
   "outputs": [],
   "source": [
    "a = np.array([[[1,2],[3,4]],[[5,6],[7,8]]])\n",
    "np.savetxt(\"some_data.csv\", a, fmt=\"%.3f\")"
   ]
  },
  {
   "cell_type": "code",
   "execution_count": null,
   "metadata": {},
   "outputs": [],
   "source": [
    "b = np.genfromtxt('some_data.csv')\n",
    "b"
   ]
  },
  {
   "cell_type": "code",
   "execution_count": null,
   "metadata": {},
   "outputs": [],
   "source": [
    "a = ['c','s','f']\n",
    "b = ['d','3e','4']\n",
    "a+b"
   ]
  },
  {
   "cell_type": "code",
   "execution_count": 48,
   "metadata": {},
   "outputs": [
    {
     "data": {
      "text/plain": [
       "3"
      ]
     },
     "execution_count": 48,
     "metadata": {},
     "output_type": "execute_result"
    }
   ],
   "source": [
    "ma = np.reshape(np.arange(0,12),(3,4))\n",
    "len(ma)"
   ]
  }
 ],
 "metadata": {
  "kernelspec": {
   "display_name": "Python 3.10.0 64-bit",
   "language": "python",
   "name": "python3"
  },
  "language_info": {
   "codemirror_mode": {
    "name": "ipython",
    "version": 3
   },
   "file_extension": ".py",
   "mimetype": "text/x-python",
   "name": "python",
   "nbconvert_exporter": "python",
   "pygments_lexer": "ipython3",
   "version": "3.10.0"
  },
  "orig_nbformat": 4,
  "vscode": {
   "interpreter": {
    "hash": "446b379375ee86a0a64a5cb187db7c950ebcdbeba9d95c421944cc0641344ff7"
   }
  }
 },
 "nbformat": 4,
 "nbformat_minor": 2
}
