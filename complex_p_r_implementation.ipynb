{
 "cells": [
  {
   "cell_type": "code",
   "execution_count": 1,
   "metadata": {},
   "outputs": [],
   "source": [
    "import numpy as np\n",
    "import matplotlib.pyplot as plt\n",
    "import random"
   ]
  },
  {
   "cell_type": "code",
   "execution_count": 70,
   "metadata": {},
   "outputs": [],
   "source": [
    "def random_complex_vector(n=1, max_norm=1, fixed_norm=True):\n",
    "    \"\"\"\n",
    "    Returns a complex vector of dimension n x 1 (defaults to 1 x 1).\n",
    "    Complex elements have norm ]0,max_norm] uniformly randomly, or norm max_norm if fixed_norm == True\n",
    "    \"\"\"\n",
    "    ret = np.empty(n,dtype=np.complex_)\n",
    "    for i in range(n):\n",
    "        if fixed_norm:\n",
    "            norm = max_norm*(1-random.random()) #to have ]0,max_norm]\n",
    "        else:\n",
    "            norm = max_norm\n",
    "        ang = 2*np.pi*random.random()\n",
    "        ret[i] = max_norm*np.exp((0+1j)*ang)\n",
    "    return ret"
   ]
  },
  {
   "cell_type": "code",
   "execution_count": 89,
   "metadata": {},
   "outputs": [],
   "source": [
    "def random_complex_vector(n=1, distribution='gaussian', param=1/np.sqrt(2)):\n",
    "    \"\"\"\n",
    "    Returns a complex vector of dimension n x 1\n",
    "    If distribution=='gaussian', complex elements are as x+iy, with x,y ~N(0,param^2), param is std\n",
    "    If distribution=='uniform', complex elements have norm ]0,param] uniformly randomly, phase ]0,2pi] uniformly randomly\n",
    "    If distribution=='fixed_norm', complex elements have norm param, phase ]0,2pi] uniformly randomly\n",
    "    \n",
    "    Complex standard normal (gaussian) distribution has variance 1/2 over the real and over the imaginary part\n",
    "    \"\"\"\n",
    "    assert distribution in ['gaussian','uniform','fixed_norm'], \\\n",
    "        f\"Parameter distribution can not be {distribution}\"\n",
    "\n",
    "    if distribution=='gaussian':\n",
    "        return np.random.normal(loc=0,scale=param,size=n) + \\\n",
    "            (0+1j)*np.random.normal(loc=0,scale=param,size=n)\n",
    "    else:\n",
    "        ret = np.empty(n,dtype=np.complex_)\n",
    "        for i in range(n):\n",
    "            if distribution=='fixed_norm':\n",
    "                norm = param*(1-random.random()) #to have ]0,param]\n",
    "            elif distribution=='uniform':\n",
    "                norm = param\n",
    "            ang = 2*np.pi*random.random()\n",
    "            ret[i] = norm*np.exp((0+1j)*ang)\n",
    "    return ret"
   ]
  },
  {
   "cell_type": "code",
   "execution_count": 69,
   "metadata": {},
   "outputs": [],
   "source": [
    "def define_w_hat(dim):\n",
    "    \"\"\"\n",
    "    Returns a complex vector of dimension d x 1, the \"teacher\" vector to be found.\n",
    "    Its components are randomly initialized: its norm is in [0,1[, its phase in [0,2pi[.\n",
    "    Its complex norm squared is d (which means its numpy.linalg.norm is the root of d)\n",
    "    \"\"\"\n",
    "    #assert isinstance(dim,int) and dim > 0, f\"Given variable dim should not be {dim}\"\n",
    "    ret = random_complex_vector(dim,max_norm=1,fixed_norm=False)\n",
    "    return np.sqrt(dim)*ret/np.linalg.norm(ret)"
   ]
  },
  {
   "cell_type": "code",
   "execution_count": 71,
   "metadata": {},
   "outputs": [],
   "source": [
    "def define_X(n,dim,law='gaussian'):\n",
    "    \"\"\"\n",
    "    Returns a matrix of dimension n x dim, that is the data.\n",
    "    If law=='gaussian', its rows are complex standard normally distributed, meaning x+iy with x,y~N(0,1/2)\n",
    "    \"\"\"\n",
    "    mat = np.empty(n,dim,dtype=np.complex_)\n"
   ]
  },
  {
   "cell_type": "code",
   "execution_count": 23,
   "metadata": {},
   "outputs": [],
   "source": [
    "random.seed(0)"
   ]
  },
  {
   "cell_type": "code",
   "execution_count": 30,
   "metadata": {},
   "outputs": [
    {
     "data": {
      "text/plain": [
       "0.7837985890347726"
      ]
     },
     "execution_count": 30,
     "metadata": {},
     "output_type": "execute_result"
    }
   ],
   "source": [
    "random.random()"
   ]
  },
  {
   "cell_type": "code",
   "execution_count": 45,
   "metadata": {},
   "outputs": [
    {
     "data": {
      "text/plain": [
       "(0.8444218515250481, 0.7579544029403025)"
      ]
     },
     "execution_count": 45,
     "metadata": {},
     "output_type": "execute_result"
    }
   ],
   "source": [
    "random.seed(0)\n",
    "(random.random(),random.random())\n"
   ]
  },
  {
   "cell_type": "code",
   "execution_count": 47,
   "metadata": {},
   "outputs": [
    {
     "data": {
      "text/plain": [
       "(0.8444218515250481, 0.7579544029403025)"
      ]
     },
     "execution_count": 47,
     "metadata": {},
     "output_type": "execute_result"
    }
   ],
   "source": [
    "random.seed(0)\n",
    "(random.random(),random.random())"
   ]
  },
  {
   "cell_type": "code",
   "execution_count": 54,
   "metadata": {},
   "outputs": [
    {
     "data": {
      "text/plain": [
       "0.4765969541523558"
      ]
     },
     "execution_count": 54,
     "metadata": {},
     "output_type": "execute_result"
    }
   ],
   "source": [
    "random.random()"
   ]
  },
  {
   "cell_type": "code",
   "execution_count": 59,
   "metadata": {},
   "outputs": [
    {
     "data": {
      "text/plain": [
       "0.3065575137321458"
      ]
     },
     "execution_count": 59,
     "metadata": {},
     "output_type": "execute_result"
    }
   ],
   "source": [
    "random.seed()\n",
    "random.random()"
   ]
  },
  {
   "cell_type": "code",
   "execution_count": null,
   "metadata": {},
   "outputs": [],
   "source": []
  }
 ],
 "metadata": {
  "kernelspec": {
   "display_name": "Python 3.10.0 64-bit",
   "language": "python",
   "name": "python3"
  },
  "language_info": {
   "codemirror_mode": {
    "name": "ipython",
    "version": 3
   },
   "file_extension": ".py",
   "mimetype": "text/x-python",
   "name": "python",
   "nbconvert_exporter": "python",
   "pygments_lexer": "ipython3",
   "version": "3.10.0"
  },
  "orig_nbformat": 4,
  "vscode": {
   "interpreter": {
    "hash": "446b379375ee86a0a64a5cb187db7c950ebcdbeba9d95c421944cc0641344ff7"
   }
  }
 },
 "nbformat": 4,
 "nbformat_minor": 2
}
